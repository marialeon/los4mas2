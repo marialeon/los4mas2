{
 "cells": [
  {
   "cell_type": "markdown",
   "metadata": {},
   "source": [
    "# 2do Set de Preguntas Proyecto Final"
   ]
  },
  {
   "cell_type": "markdown",
   "metadata": {},
   "source": []
  },
  {
   "cell_type": "markdown",
   "metadata": {},
   "source": [
    "### Maria José León\n",
    "\n",
    "#### Características de los Laboratorios del Estado de Florida que tienen mejor Rating debido que son tratados con cuidado prefesional por el equipo de salud"
   ]
  },
  {
   "cell_type": "code",
   "execution_count": null,
   "metadata": {
    "collapsed": true
   },
   "outputs": [],
   "source": [
    "import numpy as np\n",
    "import pandas as pd\n",
    "from scipy import stats, integrate\n",
    "import matplotlib.pyplot as plt\n",
    "import seaborn as sns\n",
    "\n",
    "homehealth= pd.read_csv(\"homehealth.csv\")\n",
    "\n",
    "a=3\n",
    "b=5\n",
    "\n",
    "inferior=homehealth.Sratings>=a\n",
    "superior=homehealth.Sratings<=b\n",
    "filtro=superior & inferior\n",
    "\n",
    "data=homehealth[filtro]\n",
    "\n",
    "data.Percentp.dropna().mean() #promedio del Porcentaje de pacientes que son tratados con cuidado profesional por el equipo de salud \n",
    "\n",
    "bystate = homehealth[homehealth.State=='FL'].groupby('State')\n",
    "\n",
    "A1=bystate.Sratinghw.mean() #Calificacion de estrellas para el equipo de salud que da un cuidado profesional \n",
    "B1=bystate.Sratinghs.mean() #Porcentaje de pacientes que tienen buena comunicacion con el equipo de salud\n",
    "C1=bystate.Percenths.mean() #promedio Calificacion de estrellas sobre home safety \n",
    "\n",
    "\n",
    "homehealth.describe()#todas las descripciones de las cotizaciones mas baratas\n",
    "\n",
    "\n",
    "print(\"los laboratorios del Estado de Florida con mejor rating, el equipo de salud tiene un promedio de cuidado profesional de \"+str(A1)[0:1000]+\" %\")\n",
    "print(\"los laboratorios del Estado de Floridacon mejor rating, en su promedio de comunicacion con los pacientes es de \"+str(B1)[0:1000]+\" %\")\n",
    "print(\"los laboratorios del Estado de Floridacon mejor rating, tienen un porcentaje de califacion del servicio de home safety de  \"+str(C1)[0:1000]+\" %\")\n",
    "\n",
    "\n",
    "pd.crosstab(homehealth.Sratinghw, homehealth.Sratinghs) #comparacion de informacion del rating de cuidado personal y de buena comunicacion de clientes con enfermeros\n",
    "\n",
    "\n",
    "sns.distplot(data.Sratinghw) #Grafica del promedio del equipo de salud tiene un promedio de cuidado profesional\n",
    "    bystate.Sratinghw.mean() #promedio\n",
    "    \n",
    "sns.distplot(data.Sratinghs) #Grafica del promedio de comunicacion con los pacientes\n",
    "    bystate.Sratinghs.mean() #promedio\n",
    "    \n",
    "sns.distplot(data.Percenths) #Grafica del porcentaje de califacion del servicio de home safety\n",
    "    bystate.Percenths.mean() #promedio\n",
    "    \n",
    "def suma(a,b,c): #suma total del los porcentajes de las caracteristicas del Estado de Florida\n",
    "    prob =  a + b + c\n",
    "    return prob\n",
    "    \n",
    "dato1= bystate.Sratinghw.mean()\n",
    "dato2= bystate.Sratinghs.mean()\n",
    "dato3= bystate.Percenths.mean()\n",
    "\n",
    "total = suma(dato1,dato2,dato3)\n",
    "    \n",
    "print total\n"
   ]
  },
  {
   "cell_type": "markdown",
   "metadata": {},
   "source": [
    "los laboratorios con mejor rating, el equipo de salud tiene un promedio de cuidado profesional de 4.07998416155 %\n",
    "los laboratorios con mejor rating, en su promedio de comunicacion con los pacientes es de 3.17244110077 %\n",
    "los laboratorios con mejor rating, tienen un porcentaje de califacion del servicio de home safety de  84.449019996 %"
   ]
  },
  {
   "cell_type": "markdown",
   "metadata": {},
   "source": [
    "![Sratinghw](https://scontent-mia1-1.xx.fbcdn.net/v/t1.0-9/13179369_10206995237103575_8185419761088240058_n.jpg?oh=c4f05801cbf4e2cbcbf9ccd2e5a88cac&oe=57A3ED9E)\n",
    "\n",
    "![Sratinghs](https://scontent-mia1-1.xx.fbcdn.net/v/t1.0-9/13173777_10206995237143576_6710431400997265409_n.jpg?oh=0425bb3544333b946a20d13667f19ef6&oe=57E2E53F)\n",
    "\n",
    "![Percenths](https://scontent-mia1-1.xx.fbcdn.net/v/t1.0-9/13230257_10206995237063574_183293039262448081_n.jpg?oh=4495c3185d3f25b84129cebd43bf6af4&oe=57AC9DE6)"
   ]
  },
  {
   "cell_type": "markdown",
   "metadata": {},
   "source": [
    "### Daniel Mishaan\n",
    "\n",
    "#### ¿Cual es la probabilidad que un laboratorio se encuentre en el cuarto cuartl con respecto a las calificaciones totales de los clientes?"
   ]
  },
  {
   "cell_type": "code",
   "execution_count": null,
   "metadata": {
    "collapsed": true
   },
   "outputs": [],
   "source": [
    "pd.crosstab(index=homehealth['State'],\n",
    "            columns=homehealth[\"Scompleted\"], margins=True)\n",
    "        ##Ver que estado tiene mas labs\n",
    "grouped = homehealth.groupby('State')\n",
    "## Texas es el que mas tiene con 262​\n",
    "homehealth.count()\n",
    "homehealth_Est = homehealth[homehealth[\"State\"] == 'TX']\n",
    "homehealth_menos = homehealth_Est[homehealth_Est[\"Scompleted\"] <  1.412619e+02]\n",
    "total_Est = homehealth_Est[\"State\"].count()+0.0\n",
    "total_menost = homehealth_menos[\"State\"].count()+0.0\n",
    "porcentaje = (total_menost/total_Est)*100\n",
    "print(\"La probabilidad de que un laboratorio en Texas tenga mas de la media total de encuestadas es de  \"+ str(porcentaje)+ \"%\")\n",
    "def graph_loop():\n",
    "    x_ar = []\n",
    "    p_ar = []\n",
    "    for i in homehealth[\"State\"]:\n",
    "        if i not in x_ar:\n",
    "            x_ar.append(i)\n",
    "    for i in x_ar:\n",
    "        homehealth_state = homehealth[homehealth[\"State\"] == i]\n",
    "        homehealth_porcentaje = homehealth_state[homehealth_state[\"Scompleted\"] < 200]\n",
    "        total_state = homehealth_state[\"State\"].count()+0.0\n",
    "        total_porcentaje = homehealth_porcentaje[\"State\"].count()+0.0\n",
    "        porcentaje = (total_porcentaje/total_state)*100\n",
    "        p_ar.append(porcentaje)\n",
    "    x = range(0,len(x_ar))\n",
    "    y = p_ar\n",
    "    mt.bar(x,y)\n",
    "    print x_ar\n",
    "graph_loop()"
   ]
  },
  {
   "cell_type": "markdown",
   "metadata": {},
   "source": [
    "La probabilidad de que un laboratorio en Texas tenga mas de 200 personas encuestadas es de  44.7448591013%\n",
    "\n",
    "![probabilidad](https://scontent-mia1-1.xx.fbcdn.net/v/t1.0-9/13164280_10206988196807572_1319108479251153447_n.jpg?oh=45a7f611c46f6f7adc78c926e1f29f4f&oe=57A8E458)"
   ]
  },
  {
   "cell_type": "markdown",
   "metadata": {},
   "source": []
  },
  {
   "cell_type": "markdown",
   "metadata": {},
   "source": [
    "### Juan Pablo Contreras\n",
    "\n",
    "#### ¿Cual es la cantidad de clientes que se representan en Gentiva Health Services?"
   ]
  },
  {
   "cell_type": "code",
   "execution_count": null,
   "metadata": {
    "collapsed": true
   },
   "outputs": [],
   "source": [
    "import pandas as pd\n",
    "import matplotlib.pyplot as mt\n",
    "​\n",
    "​\n",
    "df = pd.read_csv('homehealth.csv')\n",
    "​\n",
    "​\n",
    "def patient_percent():\n",
    "    df_clinic = df[df[\"Provider\"] == \"GENTIVA HEALTH SERVICES                           \"]\n",
    "​\n",
    "​\n",
    "    clinic = df_clinic[\"Provider\"].count()+0.0\n",
    "      \n",
    "    \n",
    "    total = df[\"Provider\"].count()+0.0\n",
    "    \n",
    "    \n",
    "    porcentaje = (clinic / total) * 100\n",
    "    return porcentaje\n",
    "​\n",
    "print(patient_percent())"
   ]
  },
  {
   "cell_type": "code",
   "execution_count": null,
   "metadata": {
    "collapsed": true
   },
   "outputs": [],
   "source": [
    "import pandas as pd\n",
    "import matplotlib.pyplot as mt\n",
    "​\n",
    "​\n",
    "df = pd.read_csv('homehealth.csv')\n",
    "​\n",
    "​\n",
    "​\n",
    "def patient_graph():\n",
    "    clin_ar = []\n",
    "    pat_ar = []\n",
    "    \n",
    "    df1 = df[df[\"State\"]==\"WA\"]\n",
    "    \n",
    "    for i in df1[\"Provider\"]:\n",
    "        if i not in clin_ar:\n",
    "            clin_ar.append(i)\n",
    "    \n",
    "    print(clin_ar)\n",
    "    \n",
    "    for i in clin_ar:\n",
    "        \n",
    "        clinic = df1[df1[\"Provider\"] == i]\n",
    "        c = clinic[\"Provider\"].count()+0.0\n",
    "        \n",
    "        tot = df[\"Provider\"].count()+0.0\n",
    "        \n",
    "        fin = (c/tot)*100\n",
    "        pat_ar.append(fin)\n",
    "        \n",
    "    x = range(0,len(clin_ar))\n",
    "    y = pat_ar\n",
    "​\n",
    "    mt.bar(x,y)\n",
    "    \n",
    "patient_graph()"
   ]
  },
  {
   "cell_type": "markdown",
   "metadata": {},
   "source": [
    "![comparación](https://scontent-mia1-1.xx.fbcdn.net/v/t1.0-9/13165856_10206994775012023_7821157150409588574_n.jpg?oh=cfe28d8f5afb13f962a379d1782aa2e9&oe=57DE25DD)"
   ]
  },
  {
   "cell_type": "markdown",
   "metadata": {},
   "source": []
  },
  {
   "cell_type": "markdown",
   "metadata": {},
   "source": [
    "### Julia Hernández\n",
    "\n",
    "#### En Alabama, ¿Qué clínica se discute menos sobre home safety y tiene la calificación más baja en brindar atención de manera profesional?"
   ]
  },
  {
   "cell_type": "code",
   "execution_count": null,
   "metadata": {
    "collapsed": true
   },
   "outputs": [],
   "source": [
    "a=homehealth['Percenths']\n",
    "a=a[a.notnull()]\n",
    "a\n",
    "minimos=np.percentile(a,25)\n",
    "minimos\n",
    "f=homehealth[homehealth[\"State\"]==\"AL\"]\n",
    "l=f[homehealth[\"Percenths\"]<minimos]\n",
    "minimo=l.Percentp.min()\n",
    "h=l[homehealth[\"Percentp\"]==minimo]\n",
    "h"
   ]
  },
  {
   "cell_type": "markdown",
   "metadata": {},
   "source": [
    " JEFFERSON COUNTY HOME CARE"
   ]
  },
  {
   "cell_type": "code",
   "execution_count": null,
   "metadata": {
    "collapsed": true
   },
   "outputs": [],
   "source": []
  },
  {
   "cell_type": "code",
   "execution_count": null,
   "metadata": {
    "collapsed": true
   },
   "outputs": [],
   "source": []
  },
  {
   "cell_type": "code",
   "execution_count": null,
   "metadata": {
    "collapsed": true
   },
   "outputs": [],
   "source": []
  },
  {
   "cell_type": "code",
   "execution_count": null,
   "metadata": {
    "collapsed": true
   },
   "outputs": [],
   "source": []
  },
  {
   "cell_type": "code",
   "execution_count": null,
   "metadata": {
    "collapsed": true
   },
   "outputs": [],
   "source": []
  },
  {
   "cell_type": "code",
   "execution_count": null,
   "metadata": {
    "collapsed": true
   },
   "outputs": [],
   "source": []
  },
  {
   "cell_type": "code",
   "execution_count": null,
   "metadata": {
    "collapsed": true
   },
   "outputs": [],
   "source": []
  }
 ],
 "metadata": {
  "kernelspec": {
   "display_name": "Python 2",
   "language": "python",
   "name": "python2"
  },
  "language_info": {
   "codemirror_mode": {
    "name": "ipython",
    "version": 2
   },
   "file_extension": ".py",
   "mimetype": "text/x-python",
   "name": "python",
   "nbconvert_exporter": "python",
   "pygments_lexer": "ipython2",
   "version": "2.7.11"
  }
 },
 "nbformat": 4,
 "nbformat_minor": 0
}
