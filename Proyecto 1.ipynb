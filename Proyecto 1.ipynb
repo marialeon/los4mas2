{
 "cells": [
  {
   "cell_type": "markdown",
   "metadata": {},
   "source": [
    "# Proyecto 1"
   ]
  },
  {
   "cell_type": "markdown",
   "metadata": {},
   "source": [
    "## Preguntas"
   ]
  },
  {
   "cell_type": "markdown",
   "metadata": {},
   "source": [
    "#### 1. ¿Qué características tienen los grupos a los que se les cotiza los seguros más baratos?"
   ]
  },
  {
   "cell_type": "code",
   "execution_count": null,
   "metadata": {
    "collapsed": true
   },
   "outputs": [],
   "source": [
    "import pandas as pd\n",
    "import seaborn as sns\n",
    "import matplotlib.pyplot as plt\n",
    "\n",
    "allstate = pd.read_csv('allstate.csv')\n",
    "\n",
    "valmin=allstate[\"cost\"].min()\n",
    "valmax=allstate[\"cost\"].max()\n",
    "valorbaratos=valmax-valmin\n",
    "baratos=allstate[allstate[\"cost\"]<valorbaratos]\n",
    "baratos.describe()"
   ]
  },
  {
   "cell_type": "code",
   "execution_count": null,
   "metadata": {
    "collapsed": true
   },
   "outputs": [],
   "source": [
    " customer_ID    shopping_pt    record_type            day  \\\n",
    "count  4.802390e+05  480239.000000  480239.000000  480239.000000   \n",
    "mean   1.007662e+07       4.188312       0.149067       1.957007   \n",
    "std    4.404185e+04       2.385083       0.356155       1.445064   \n",
    "min    1.000000e+07       1.000000       0.000000       0.000000   \n",
    "25%    1.003865e+07       2.000000       0.000000       1.000000   \n",
    "50%    1.007641e+07       4.000000       0.000000       2.000000   \n",
    "75%    1.011471e+07       6.000000       0.000000       3.000000   \n",
    "max    1.015272e+07      13.000000       1.000000       6.000000   \n",
    "​\n",
    "            location     group_size      homeowner        car_age  \\\n",
    "count  480239.000000  480239.000000  480239.000000  480239.000000   \n",
    "mean    12269.025221       1.237099       0.591054       8.789199   \n",
    "std      1564.176124       0.453996       0.491640       5.946012   \n",
    "min     10001.000000       1.000000       0.000000       0.000000   \n",
    "25%     10936.000000       1.000000       0.000000       4.000000   \n",
    "50%     12022.000000       1.000000       1.000000       8.000000   \n",
    "75%     13426.000000       1.000000       1.000000      12.000000   \n",
    "max     16580.000000       4.000000       1.000000      85.000000   \n",
    "​\n",
    "         risk_factor     age_oldest      ...           C_previous  \\\n",
    "count  314720.000000  480239.000000      ...        469035.000000   \n",
    "mean        2.486648      46.883927      ...             2.498462   \n",
    "std         1.133696      17.253569      ...             1.017445   \n",
    "min         1.000000      18.000000      ...             1.000000   \n",
    "25%         1.000000      31.000000      ...             2.000000   \n",
    "50%         3.000000      47.000000      ...             3.000000   \n",
    "75%         4.000000      62.000000      ...             3.000000   \n",
    "max         4.000000      75.000000      ...             4.000000   \n",
    "​\n",
    "       duration_previous              A              B              C  \\\n",
    "count       469035.00000  480239.000000  480239.000000  480239.000000   \n",
    "mean             6.41983       0.854135       0.432172       2.315081   \n",
    "std              4.77760       0.604806       0.495379       0.986714   \n",
    "min              0.00000       0.000000       0.000000       1.000000   \n",
    "25%              2.00000       0.000000       0.000000       1.000000   \n",
    "50%              5.00000       1.000000       0.000000       3.000000   \n",
    "75%              9.00000       1.000000       1.000000       3.000000   \n",
    "max             15.00000       2.000000       1.000000       4.000000   \n",
    "​\n",
    "                   D              E              F              G  \\\n",
    "count  480239.000000  480239.000000  480239.000000  480239.000000   \n",
    "mean        2.470283       0.392915       1.130375       2.290691   \n",
    "std         0.747806       0.488399       0.936160       0.918449   \n",
    "min         1.000000       0.000000       0.000000       1.000000   \n",
    "25%         2.000000       0.000000       0.000000       2.000000   \n",
    "50%         3.000000       0.000000       1.000000       2.000000   \n",
    "75%         3.000000       1.000000       2.000000       3.000000   \n",
    "max         3.000000       1.000000       3.000000       4.000000   \n",
    "​\n",
    "                cost  \n",
    "count  480239.000000  \n",
    "mean      614.359765  \n",
    "std        31.886037  \n",
    "min       260.000000  \n",
    "25%       595.000000  \n",
    "50%       619.000000  \n",
    "75%       639.000000  \n",
    "max       661.000000 "
   ]
  },
  {
   "cell_type": "markdown",
   "metadata": {},
   "source": [
    "#### 2. ¿Qué tan probable es que se compre un seguro después de la k-ésima cotización?"
   ]
  },
  {
   "cell_type": "code",
   "execution_count": null,
   "metadata": {
    "collapsed": true
   },
   "outputs": [],
   "source": [
    "import pandas as pd\n",
    "import seaborn as sns\n",
    "import matplotlib.pyplot as plt\n",
    "\n",
    "allstate = pd.read_csv('allstate.csv')\n",
    "\n",
    "kesima=3;\n",
    "despues=kesima+1;\n",
    "total= sum (allstate[\"shopping_pt\"]==1)\n",
    "compran=total-(sum(allstate[\"shopping_pt\"]==despues))\n",
    "probabilidad=((compran/1.0)/(total/1.0))*100\n",
    "print(\"la probabilidad de comprar despues de la \"+str(kesima)+\"cotizacion es: \"+ str(probabilidad)[0:4]+\"%\")\n"
   ]
  },
  {
   "cell_type": "code",
   "execution_count": null,
   "metadata": {
    "collapsed": true
   },
   "outputs": [],
   "source": [
    "5.73%"
   ]
  },
  {
   "cell_type": "markdown",
   "metadata": {},
   "source": [
    "#### 3. Basados en la edad del más joven. ¿Que grupo tiene mayor probabilidad de comprar un seguro?"
   ]
  },
  {
   "cell_type": "code",
   "execution_count": null,
   "metadata": {
    "collapsed": true
   },
   "outputs": [],
   "source": []
  },
  {
   "cell_type": "markdown",
   "metadata": {},
   "source": [
    "#### 4. ¿Que edad promedio tienen las personas dueñas de carros vieos y carros nuevos?"
   ]
  },
  {
   "cell_type": "code",
   "execution_count": null,
   "metadata": {
    "collapsed": true
   },
   "outputs": [],
   "source": [
    "import pandas as pd\n",
    "import numpy as np\n",
    "\n",
    "\n",
    "edad = allstate[['car_age','age_oldest']]  \n",
    "pa = edad[edad.car_age == edad.car_age.max()] \n",
    "p = pa.age_oldest.mean()\n",
    "print p \n",
    "edad = allstate[['car_age','age_youngest']]  \n",
    "pa = edad[edad.car_age == edad.car_age.max()] \n",
    "p = pa.age_youngest.mean()\n",
    "print p \n",
    "##allstate.car_age.min()\n",
    "edad = allstate[['car_age','age_oldest']]  \n",
    "pa = edad[edad.car_age == edad.car_age.min()] \n",
    "p = pa.age_oldest.mean()\n",
    "print p \n",
    "    \n",
    "edad = allstate[['car_age','age_youngest']]  \n",
    "pa = edad[edad.car_age == edad.car_age.min()] \n",
    "p = pa.age_youngest.mean()\n",
    "print p"
   ]
  },
  {
   "cell_type": "code",
   "execution_count": null,
   "metadata": {
    "collapsed": true
   },
   "outputs": [],
   "source": [
    "Para Carros Viejos: 43.7\n",
    "Para Carros Nuevos: 64.0"
   ]
  },
  {
   "cell_type": "markdown",
   "metadata": {},
   "source": [
    "#### 5. ¿Probabilidad de que alguien de edad k compre un seguro?"
   ]
  },
  {
   "cell_type": "code",
   "execution_count": null,
   "metadata": {
    "collapsed": true
   },
   "outputs": [],
   "source": [
    "edadk=20;\n",
    "info=allstate[allstate['age_oldest']==edadk]\n",
    "totales=sum(allstate['record_type']==1)\n",
    "comprak=sum(info['record_type']==1)\n",
    "probabilidadk=((comprak/1.0)/(totales/1.0))*100\n",
    "\n",
    "info2=allstate[allstate['age_youngest']==edadk]\n",
    "comprak2=sum(info2['record_type']==1)\n",
    "probabilidadk2=((comprak2/1.0)/(totales/1.0))*100\n",
    "\n",
    "probabilidadtotal=probabilidadk+probabilidadk2;\n",
    "\n",
    "print(\"probabilidad de que alguien de edad \"+ str(edadk) +\" años compre un seguro es de \"+ str(probabilidadtotal)[0:4] + \"%\")"
   ]
  },
  {
   "cell_type": "code",
   "execution_count": null,
   "metadata": {
    "collapsed": true
   },
   "outputs": [],
   "source": [
    "La probabilidad que alguien de 20 años compre un seguro es de 3.45%"
   ]
  },
  {
   "cell_type": "markdown",
   "metadata": {},
   "source": [
    "#### 6. ¿Que estado, en promedio, necesita menos cotizaciones?"
   ]
  },
  {
   "cell_type": "code",
   "execution_count": null,
   "metadata": {
    "collapsed": true
   },
   "outputs": [],
   "source": [
    "import pandas as pd\n",
    "import numpy as np\n",
    "import seaborn as sns\n",
    "import matplotlib.pyplot as plt\n",
    "\n",
    "bystate = allstate[allstate.record_type==1].groupby(\"state\")\n",
    "bystate.shopping_pt.mean()\n",
    "bystate.shopping_pt.mean().min()\n",
    "bystate.shopping_pt.mean()"
   ]
  },
  {
   "cell_type": "code",
   "execution_count": null,
   "metadata": {
    "collapsed": true
   },
   "outputs": [],
   "source": [
    "South Dakota"
   ]
  },
  {
   "cell_type": "markdown",
   "metadata": {},
   "source": [
    "#### 7. ¿Cuántas cotizaciones, previo la compra, realizan los consumidores del estado de Florida?"
   ]
  },
  {
   "cell_type": "code",
   "execution_count": null,
   "metadata": {
    "collapsed": true
   },
   "outputs": [],
   "source": [
    "import pandas as pd\n",
    "import numpy as np\n",
    "import seaborn as sns\n",
    "import matplotlib.pyplot as plt\n",
    "\n",
    "\n",
    "allstate=pd.read_csv(\"allstate.csv\")\n",
    "\n",
    "a = (allstate.state == \"FL\") & (allstate.shopping_pt == 1)\n",
    "a.sum()\n",
    "\n",
    "b = (allstate.state == \"FL\") & (allstate.shopping_pt == 2)\n",
    "b.sum()\n",
    "\n",
    "a.sum()-b.sum()\n",
    "\n",
    "c = (allstate.state == \"FL\") & (allstate.shopping_pt == 3)\n",
    "c.sum()\n",
    "\n",
    "d = (allstate.state == \"FL\") & (allstate.shopping_pt == 4)\n",
    "d.sum()\n",
    "\n",
    "c.sum()-d.sum()\n",
    "\n",
    "e = (allstate.state == \"FL\") & (allstate.shopping_pt == 5)\n",
    "e.sum()\n",
    "\n",
    "d.sum()-e.sum()\n",
    "\n",
    "\n",
    "f = (allstate.state == \"FL\") & (allstate.shopping_pt == 6)\n",
    "f.sum()\n",
    "\n",
    "e.sum()-f.sum()\n",
    "\n",
    "g = (allstate.state == \"FL\") & (allstate.shopping_pt == 7)\n",
    "g.sum()\n",
    "\n",
    "f.sum()-g.sum()\n",
    "\n",
    "h = (allstate.state == \"FL\") & (allstate.shopping_pt == 8)\n",
    "h.sum()\n",
    "\n",
    "g.sum()-h.sum()\n",
    "\n",
    "i = (allstate.state == \"FL\") & (allstate.shopping_pt == 9)\n",
    "i.sum()\n",
    "\n",
    "h.sum()-i.sum()\n",
    "\n",
    "j = (allstate.state == \"FL\") & (allstate.shopping_pt == 10)\n",
    "j.sum()\n",
    "\n",
    "i.sum()-j.sum()\n",
    "\n",
    "k = (allstate.state == \"FL\") & (allstate.shopping_pt == 11)\n",
    "k.sum()\n",
    "\n",
    "j.sum()-k.sum()\n",
    "\n",
    "l = (allstate.state == \"FL\") & (allstate.shopping_pt == 12)\n",
    "l.sum()\n",
    "\n",
    "k.sum()-l.sum()\n",
    "\n",
    "m = (allstate.state == \"FL\") & (allstate.shopping_pt == 13)\n",
    "m.sum()\n",
    "\n",
    "l.sum()-m.sum()"
   ]
  },
  {
   "cell_type": "code",
   "execution_count": null,
   "metadata": {
    "collapsed": true
   },
   "outputs": [],
   "source": [
    "3"
   ]
  },
  {
   "cell_type": "markdown",
   "metadata": {},
   "source": [
    "#### 8. ¿En qué tiempo prudente se realizan las cotizaciones?"
   ]
  },
  {
   "cell_type": "code",
   "execution_count": null,
   "metadata": {
    "collapsed": true
   },
   "outputs": [],
   "source": [
    "import pandas as pd\n",
    "import numpy as np\n",
    "import seaborn as sns\n",
    "import matplotlib.pyplot as plt\n",
    "\n",
    "allstate=pd.read_csv(\"allstate.csv\")\n",
    "\n",
    "ventas = allstate[(allstate.record_type == 1)]\n",
    "ventas.count()\n",
    "ventas.time.mode()"
   ]
  },
  {
   "cell_type": "code",
   "execution_count": null,
   "metadata": {
    "collapsed": true
   },
   "outputs": [],
   "source": [
    "La hora a la que más seguros se compran es a las 14:35"
   ]
  },
  {
   "cell_type": "markdown",
   "metadata": {},
   "source": [
    "#### 9. ¿Del total de carros que porcentaje tiene menos de k años?"
   ]
  },
  {
   "cell_type": "code",
   "execution_count": null,
   "metadata": {
    "collapsed": true
   },
   "outputs": [],
   "source": [
    "import pandas as pd\n",
    "import seaborn as sns\n",
    "import matplotlib.pyplot as plt\n",
    "#Ejercicio 9\n",
    "allstate = pd.read_csv('allstate.csv')\n",
    "\n",
    "dataFrame = allstate[['car_age']]\n",
    "\n",
    "def underCarAge(edad):\n",
    "    x = allstate[['car_age']]\n",
    "    temporary = x[x.car_age < edad]\n",
    "    porc = (temporary.count() / x.count())*100\n",
    "    return porc\n",
    "\n",
    "#underCarAge(86)\n",
    "max_value = dataFrame.max()\n",
    "min_value = dataFrame.min()\n",
    "listaDeValores = []\n",
    "for i in range(min_value,max_value+1):\n",
    "    row = [int(i), str(str(float(underCarAge(i)))+'%')]\n",
    "    listaDeValores.append(row)\n",
    "\n",
    "nombre = pd.Series((v[0] for v in listaDeValores))\n",
    "nombreDeSerie = pd.Series((v[1] for v in listaDeValores))\n",
    "newDataFrame = pd.concat([nombre,nombreDeSerie], axis = 1)\n",
    "newDataFrame.columns = ('Edad','Porcentaje')\n",
    "\n",
    "print newDataFrame"
   ]
  },
  {
   "cell_type": "code",
   "execution_count": null,
   "metadata": {
    "collapsed": true
   },
   "outputs": [],
   "source": [
    "   Edad       Porcentaje\n",
    "0      0             0.0%\n",
    "1      1  0.872605595799%\n",
    "2      2   11.6430088583%\n",
    "3      3   19.2174659413%\n",
    "4      4   25.2890271162%\n",
    "5      5   31.4507800838%\n",
    "6      6   36.3821666774%\n",
    "7      7   43.0507975209%\n",
    "8      8   50.0785420196%\n",
    "9      9    56.760701632%\n",
    "10    10   63.4075361256%\n",
    "11    11   69.3152488767%\n",
    "12    12   74.7527617479%\n",
    "13    13   79.5799768207%\n",
    "14    14   83.5826885873%\n",
    "15    15   87.3445882669%\n",
    "16    16    90.206824813%\n",
    "17    17   92.4447838328%\n",
    "18    18   94.1539183073%\n",
    "19    19   95.3985650486%\n",
    "20    20   96.5131852885%\n",
    "21    21   97.2977035666%\n",
    "22    22   97.8564417233%\n",
    "23    23   98.2668143808%\n",
    "24    24   98.6146540619%\n",
    "25    25   98.8759096218%\n",
    "26    26   99.0929712033%\n",
    "27    27   99.2539635535%\n",
    "28    28   99.3776766294%\n",
    "29    29   99.4810965518%\n",
    "..   ...              ...\n",
    "56    56   99.9854189935%\n",
    "57    57   99.9854189935%\n",
    "58    58   99.9864712311%\n",
    "59    59   99.9876737883%\n",
    "60    60   99.9891769849%\n",
    "61    61   99.9897782635%\n",
    "62    62   99.9918827386%\n",
    "63    63   99.9941375335%\n",
    "64    64   99.9941375335%\n",
    "65    65   99.9950394514%\n",
    "66    66   99.9957910497%\n",
    "67    67   99.9957910497%\n",
    "68    68   99.9957910497%\n",
    "69    69   99.9957910497%\n",
    "70    70   99.9957910497%\n",
    "71    71   99.9957910497%\n",
    "72    72   99.9957910497%\n",
    "73    73   99.9957910497%\n",
    "74    74   99.9957910497%\n",
    "75    75   99.9984968035%\n",
    "76    76   99.9993987214%\n",
    "77    77   99.9993987214%\n",
    "78    78   99.9993987214%\n",
    "79    79   99.9993987214%\n",
    "80    80   99.9993987214%\n",
    "81    81   99.9993987214%\n",
    "82    82   99.9993987214%\n",
    "83    83   99.9993987214%\n",
    "84    84   99.9993987214%\n",
    "85    85   99.9993987214%"
   ]
  },
  {
   "cell_type": "markdown",
   "metadata": {},
   "source": [
    "#### 10. ¿Que edad necesita menos cotizaciones para comprar un seguro?"
   ]
  },
  {
   "cell_type": "code",
   "execution_count": null,
   "metadata": {
    "collapsed": true
   },
   "outputs": [],
   "source": [
    "import pandas as pd\n",
    "import seaborn as sns\n",
    "import matplotlib.pyplot as plt\n",
    "\n",
    "allstate = pd.read_csv('allstate.csv')\n",
    "\n",
    "datos = allstate[['record_type','shopping_pt','age_youngest']]\n",
    "purchasedInsurance = datos[datos.record_type == 1]\n",
    "smallestCot = min(purchasedInsurance.shopping_pt)\n",
    "cantCont = purchasedInsurance[purchasedInsurance.shopping_pt == smallestCot]\n",
    "mode = cantCont.mode()\n",
    "print 'Para comprar la edad que menos cotiza es: ' + str(int(mode.age_youngest))"
   ]
  },
  {
   "cell_type": "code",
   "execution_count": null,
   "metadata": {
    "collapsed": true
   },
   "outputs": [],
   "source": [
    "75"
   ]
  }
 ],
 "metadata": {
  "kernelspec": {
   "display_name": "Python 2",
   "language": "python",
   "name": "python2"
  },
  "language_info": {
   "codemirror_mode": {
    "name": "ipython",
    "version": 2
   },
   "file_extension": ".py",
   "mimetype": "text/x-python",
   "name": "python",
   "nbconvert_exporter": "python",
   "pygments_lexer": "ipython2",
   "version": "2.7.11"
  }
 },
 "nbformat": 4,
 "nbformat_minor": 0
}
