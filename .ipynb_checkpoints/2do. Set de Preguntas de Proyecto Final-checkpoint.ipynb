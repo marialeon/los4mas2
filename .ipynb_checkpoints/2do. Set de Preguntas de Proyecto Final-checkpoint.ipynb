{
 "cells": [
  {
   "cell_type": "markdown",
   "metadata": {},
   "source": [
    "# 2do Set de Preguntas Proyecto Final"
   ]
  },
  {
   "cell_type": "markdown",
   "metadata": {},
   "source": []
  },
  {
   "cell_type": "markdown",
   "metadata": {},
   "source": [
    "### Maria José León\n",
    "\n",
    "#### Características de los Laboratorios que tienen mejor Rating debido que son tratados con cuidado prefesional por el equipo de salud"
   ]
  },
  {
   "cell_type": "code",
   "execution_count": null,
   "metadata": {
    "collapsed": true
   },
   "outputs": [],
   "source": [
    "import numpy as np\n",
    "import pandas as pd\n",
    "from scipy import stats, integrate\n",
    "import matplotlib.pyplot as plt\n",
    "import seaborn as sns\n",
    "\n",
    "homehealth= pd.read_csv(\"homehealth.csv\")\n",
    "\n",
    "a=3\n",
    "b=5\n",
    "\n",
    "inferior=homehealth.Sratings>=a\n",
    "superior=homehealth.Sratings<=b\n",
    "filtro=superior & inferior\n",
    "\n",
    "data=homehealth[filtro]\n",
    "\n",
    "data.Percentp.dropna().mean() #promedio del Porcentaje de pacientes que son tratados con cuidado profesional por el equipo de salud \n",
    "\n",
    "A1=data.Sratinghw.mean() #Calificacion de estrellas para el equipo de salud que da un cuidado profesional \n",
    "B1=data.Sratinghs.mean() #Porcentaje de pacientes que tienen buena comunicacion con el equipo de salud\n",
    "C1=data.Percenths.mean()#promedio Calificacion de estrellas sobre home safety \n",
    "\n",
    "homehealth.describe()#todas las descripciones de las cotizaciones mas baratas\n",
    "\n",
    "\n",
    "print(\"los laboratorios con mejor rating, el equipo de salud tiene un promedio de cuidado profesional de \"+str(A1)[0:1000]+\" %\")\n",
    "print(\"los laboratorios con mejor rating, en su promedio de comunicacion con los pacientes es de \"+str(B1)[0:1000]+\" %\")\n",
    "print(\"los laboratorios con mejor rating, tienen un porcentaje de califacion del servicio de home safety de  \"+str(C1)[0:1000]+\" %\")\n"
   ]
  },
  {
   "cell_type": "markdown",
   "metadata": {},
   "source": [
    "los laboratorios con mejor rating, el equipo de salud tiene un promedio de cuidado profesional de 4.07998416155 %\n",
    "los laboratorios con mejor rating, en su promedio de comunicacion con los pacientes es de 3.17244110077 %\n",
    "los laboratorios con mejor rating, tienen un porcentaje de califacion del servicio de home safety de  84.449019996 %"
   ]
  },
  {
   "cell_type": "markdown",
   "metadata": {},
   "source": [
    "### Daniel Mishaan\n",
    "\n",
    "#### ¿Cual es la probabilidad que un laboratorio se encuentre en el cuarto cuartl con respecto a las calificaciones totales de los clientes?"
   ]
  },
  {
   "cell_type": "code",
   "execution_count": null,
   "metadata": {
    "collapsed": true
   },
   "outputs": [],
   "source": [
    "import pandas as pd\n",
    "import numpy as np\n",
    "import matplotlib.pyplot as mt\n",
    "homehealth = pd.read_csv('homehealth.csv')\n",
    "homehealth.info()\n",
    "​\n",
    "##Ver que estado tiene mas labs\n",
    "grouped = homehealth.groupby('State')\n",
    "## Texas es el que mas tiene con 2626\n",
    "​\n",
    "homehealth.count()\n",
    "homehealth_Est = homehealth[homehealth[\"State\"] == 'TX']\n",
    "homehealth_menos = homehealth_Est[homehealth_Est[\"Scompleted\"] < 200]\n",
    "total_Est = homehealth_Est[\"State\"].count()+0.0\n",
    "total_menost = homehealth_menos[\"State\"].count()+0.0\n",
    "porcentaje = (total_menost/total_Est)*100\n",
    "print(\"La probabilidad de que un laboratorio en Texas tenga mas de 200 personas encuestadas es de  \"+ str(porcentaje)+ \"%\")\n",
    "def graph_loop():\n",
    "    x_ar = []\n",
    "    p_ar = []\n",
    "    for i in homehealth[\"State\"]:\n",
    "        if i not in x_ar:\n",
    "            x_ar.append(i)\n",
    "    for i in x_ar:\n",
    "        homehealth_state = homehealth[homehealth[\"State\"] == i]\n",
    "        homehealth_porcentaje = homehealth_state[homehealth_state[\"Scompleted\"] < 200]\n",
    "        total_state = homehealth_state[\"State\"].count()+0.0\n",
    "        total_porcentaje = homehealth_porcentaje[\"State\"].count()+0.0\n",
    "        porcentaje = (total_porcentaje/total_state)*100\n",
    "        p_ar.append(porcentaje)\n",
    "    x = range(0,len(x_ar))\n",
    "    y = p_ar\n",
    "    mt.bar(x,y)\n",
    "    print x_ar\n",
    "graph_loop()"
   ]
  },
  {
   "cell_type": "markdown",
   "metadata": {},
   "source": [
    "La probabilidad de que un laboratorio en Texas tenga mas de 200 personas encuestadas es de  44.7448591013%\n",
    "\n",
    "![probabilidad](https://scontent-mia1-1.xx.fbcdn.net/v/t1.0-9/13164280_10206988196807572_1319108479251153447_n.jpg?oh=45a7f611c46f6f7adc78c926e1f29f4f&oe=57A8E458)"
   ]
  }
 ],
 "metadata": {
  "kernelspec": {
   "display_name": "Python 2",
   "language": "python",
   "name": "python2"
  },
  "language_info": {
   "codemirror_mode": {
    "name": "ipython",
    "version": 2
   },
   "file_extension": ".py",
   "mimetype": "text/x-python",
   "name": "python",
   "nbconvert_exporter": "python",
   "pygments_lexer": "ipython2",
   "version": "2.7.11"
  }
 },
 "nbformat": 4,
 "nbformat_minor": 0
}
