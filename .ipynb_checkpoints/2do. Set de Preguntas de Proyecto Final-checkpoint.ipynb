{
 "cells": [
  {
   "cell_type": "markdown",
   "metadata": {},
   "source": [
    "# 2do Set de Preguntas Proyecto Final"
   ]
  },
  {
   "cell_type": "markdown",
   "metadata": {},
   "source": []
  },
  {
   "cell_type": "markdown",
   "metadata": {},
   "source": [
    "### Maria José León\n",
    "\n",
    "#### Características de los Laboratorios que tienen mejor Rating debido que son tratados con cuidado prefesional por el equipo de salud"
   ]
  },
  {
   "cell_type": "code",
   "execution_count": null,
   "metadata": {
    "collapsed": true
   },
   "outputs": [],
   "source": [
    "import numpy as np\n",
    "import pandas as pd\n",
    "from scipy import stats, integrate\n",
    "import matplotlib.pyplot as plt\n",
    "import seaborn as sns\n",
    "\n",
    "homehealth= pd.read_csv(\"homehealth.csv\")\n",
    "\n",
    "a=3\n",
    "b=5\n",
    "\n",
    "inferior=homehealth.Sratings>=a\n",
    "superior=homehealth.Sratings<=b\n",
    "filtro=superior & inferior\n",
    "\n",
    "data=homehealth[filtro]\n",
    "\n",
    "data.Percentp.dropna().mean() #promedio del Porcentaje de pacientes que son tratados con cuidado profesional por el equipo de salud \n",
    "\n",
    "A1=data.Sratinghw.mean() #Calificacion de estrellas para el equipo de salud que da un cuidado profesional \n",
    "B1=data.Sratinghs.mean() #Porcentaje de pacientes que tienen buena comunicacion con el equipo de salud\n",
    "C1=data.Percenths.mean()#promedio Calificacion de estrellas sobre home safety \n",
    "\n",
    "homehealth.describe()#todas las descripciones de las cotizaciones mas baratas\n",
    "\n",
    "\n",
    "print(\"los laboratorios con mejor rating, el equipo de salud tiene un promedio de cuidado profesional de \"+str(A1)[0:1000]+\" %\")\n",
    "print(\"los laboratorios con mejor rating, en su promedio de comunicacion con los pacientes es de \"+str(B1)[0:1000]+\" %\")\n",
    "print(\"los laboratorios con mejor rating, tienen un porcentaje de califacion del servicio de home safety de  \"+str(C1)[0:1000]+\" %\")\n"
   ]
  }
 ],
 "metadata": {
  "kernelspec": {
   "display_name": "Python 2",
   "language": "python",
   "name": "python2"
  },
  "language_info": {
   "codemirror_mode": {
    "name": "ipython",
    "version": 2
   },
   "file_extension": ".py",
   "mimetype": "text/x-python",
   "name": "python",
   "nbconvert_exporter": "python",
   "pygments_lexer": "ipython2",
   "version": "2.7.11"
  }
 },
 "nbformat": 4,
 "nbformat_minor": 0
}
