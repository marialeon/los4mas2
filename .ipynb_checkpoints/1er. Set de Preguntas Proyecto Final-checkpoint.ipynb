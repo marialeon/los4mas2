{
 "cells": [
  {
   "cell_type": "markdown",
   "metadata": {},
   "source": [
    "# 1er. Set de Preguntas Proyecto Final"
   ]
  },
  {
   "cell_type": "markdown",
   "metadata": {},
   "source": []
  },
  {
   "cell_type": "markdown",
   "metadata": {},
   "source": [
    "### Carlos Morales\n",
    "\n",
    "#### en las clinicas de alabama que ofrecen terapias y tengan mas de 300 encuestas\n",
    "\n",
    "#### probabilidad de que tambien ofrezcan servicio social medico"
   ]
  },
  {
   "cell_type": "code",
   "execution_count": null,
   "metadata": {
    "collapsed": true
   },
   "outputs": [],
   "source": [
    "terapia=homehealth['Ptherapy']\n",
    "comun=homehealth['Percenth']\n",
    "comun.count()\n",
    "terapia.count()\n",
    "\n",
    "#clinicas que ofrecen terapias\n",
    "b=homehealth[homehealth['Ptherapy']==True]\n",
    "#son del estado de alabama\n",
    "c=b[homehealth['State']==\"AL\"]\n",
    "#tenga mas de 300 encuestas\n",
    "d=c[homehealth['Scompleted']>300]\n",
    "#tambien ofrecen servicio social medico\n",
    "e=d[homehealth['Smedical']==True]\n",
    "\n",
    "m=(d[\"State\"].count())*1.0\n",
    "n=(e[\"State\"].count())*1.0\n",
    "\n",
    "probabilidad=n/m\n",
    "probabilidad\n",
    "\n",
    "print(\"La probabilidad es de: \"+ str(probabilidad*100)[0:4] + \"%  \")"
   ]
  },
  {
   "cell_type": "markdown",
   "metadata": {},
   "source": []
  },
  {
   "cell_type": "markdown",
   "metadata": {},
   "source": [
    "### Daniel Mishaan\n",
    "\n",
    "####  ¿Que estado, en promedio, tiene menos laboratorios recomendados y mas laboratorios recomendados?"
   ]
  },
  {
   "cell_type": "code",
   "execution_count": null,
   "metadata": {
    "collapsed": true
   },
   "outputs": [],
   "source": [
    "import pandas as pd\n",
    "import numpy as np\n",
    "import seaborn as sns\n",
    "import matplotlib.pyplot as plt\n",
    "homehealth=pd.read_csv(\"homehealth.csv\")\n",
    "​\n",
    "bystate = homehealth[homehealth.Hhealth==1].groupby(\"State\")\n",
    "​\n",
    "​\n",
    "bystate.Responser.max()\n",
    "bystate.Responser.min()\n",
    "bystate.Percentha.mean()"
   ]
  },
  {
   "cell_type": "markdown",
   "metadata": {},
   "source": []
  },
  {
   "cell_type": "markdown",
   "metadata": {},
   "source": [
    "### Juan Pablo Contreras\n",
    "\n",
    "#### ¿Cúal es el porcentaje de pacientes que califica por debajo de 3 estrellas en WA?"
   ]
  },
  {
   "cell_type": "code",
   "execution_count": null,
   "metadata": {
    "collapsed": true
   },
   "outputs": [],
   "source": [
    "import pandas as pd\n",
    "df = pd.read_csv(\"homehealth.csv\")\n",
    "​\n",
    "df_WA = df[df[\"State\"] == 'WA']\n",
    "df_menos = df_WA[df_WA[\"Sratingc\"] < 3]\n",
    "total_WA = df_WA[\"State\"].count()+0.0\n",
    "​\n",
    "total_menostres = df_menos[\"State\"].count()+0.0\n",
    "​\n",
    "porcentaje = (total_menostres/total_WA)*100\n",
    "​\n",
    "print(porcentaje)"
   ]
  },
  {
   "cell_type": "markdown",
   "metadata": {},
   "source": []
  },
  {
   "cell_type": "markdown",
   "metadata": {},
   "source": [
    "### Sofía Flores\n",
    "\n",
    "#### ¿De todas las encuestas hechas, cuales fueron los TOP 5 y cual es su proporcion respecto al total?"
   ]
  },
  {
   "cell_type": "code",
   "execution_count": null,
   "metadata": {
    "collapsed": true
   },
   "outputs": [],
   "source": [
    "import pandas as pd\n",
    "import numpy as np\n",
    "​\n",
    "homehealth=pd.read_csv(\"homehealth.csv\")\n",
    "​\n",
    "total=(homehealth[\"Scompleted\"].count())*1.0\n",
    "​\n",
    "a = homehealth[homehealth[\"State\"] == \"AL\"]\n",
    "soloal=(a[\"Scompleted\"].count())*1.0\n",
    "(soloal/total)*100\n",
    "Out[4]: 1.8015763793319155\n",
    "​\n",
    "b = homehealth[homehealth[\"State\"] == \"AZ\"]\n",
    "soloaz=(b[\"Scompleted\"].count())*1.0\n",
    "(soloaz/total)*100\n",
    "​\n",
    "Out[5]: 1.2385837607906918\n",
    "​\n",
    "c = homehealth[homehealth[\"State\"] == \"AR\"]\n",
    "soloar=(c[\"Scompleted\"].count())*1.0\n",
    "(soloar/total)*100\n",
    "Out[6]: 1.4888027023645689\n",
    "​\n",
    "d = homehealth[homehealth[\"State\"] == \"CA\"]\n",
    "soloca=(d[\"Scompleted\"].count())*1.0\n",
    "(soloca/total)*100\n",
    "Out[7]: 10.571750281496309\n",
    "​\n",
    "e = homehealth[homehealth[\"State\"] == \"KY\"]\n",
    "soloky=(e[\"Scompleted\"].count())*1.0\n",
    "(soloky/total)*100\n",
    "Out[8]: 1.2385837607906918\n",
    "​\n",
    "​\n",
    "f = homehealth[homehealth[\"State\"] == \"NY\"]\n",
    "solony=(f[\"Scompleted\"].count())*1.0\n",
    "(solony/total)*100\n",
    "Out[10]: 1.5388464906793444\n",
    "​\n",
    "g = homehealth[homehealth[\"State\"] == \"NC\"]\n",
    "solonc=(g[\"Scompleted\"].count())*1.0\n",
    "(solonc/total)*100\n",
    "Out[11]: 2.1143500562992616\n",
    "​\n",
    "h = homehealth[homehealth[\"State\"] == \"OH\"]\n",
    "solooh=(h[\"Scompleted\"].count())*1.0\n",
    "(solooh/total)*100\n",
    "Out[12]: 4.7541598899036659\n",
    "​\n",
    "i = homehealth[homehealth[\"State\"] == \"PA\"]\n",
    "solopa=(i[\"Scompleted\"].count())*1.0\n",
    "(solopa/total)*100\n",
    "Out[13]: 3.1152258225947702\n",
    "​\n",
    "j = homehealth[homehealth[\"State\"] == \"WA\"]\n",
    "solowa=(j[\"Scompleted\"].count())*1.0\n",
    "(solowa/total)*100\n",
    "Out[14]: 0.67559114224946837\n",
    "​\n",
    "k = homehealth[homehealth[\"State\"] == \"CO\"]\n",
    "soloco=(k[\"Scompleted\"].count())*1.0\n",
    "(soloco/total)*100\n",
    "Out[15]: 1.4762917552858752\n",
    "​\n",
    "l = homehealth[homehealth[\"State\"] == \"TN\"]\n",
    "solotn=(l[\"Scompleted\"].count())*1.0\n",
    "(solotn/total)*100\n",
    "Out[16]: 1.5888902789941199\n",
    "​\n",
    "m = homehealth[homehealth[\"State\"] == \"CT\"]\n",
    "soloct=(m[\"Scompleted\"].count())*1.0\n",
    "(soloct/total)*100\n",
    "Out[17]: 0.91329913674465157\n",
    "​\n",
    "n = homehealth[homehealth[\"State\"] == \"DE\"]\n",
    "solode=(n[\"Scompleted\"].count())*1.0\n",
    "(solode/total)*100\n",
    "Out[18]: 0.21268610033779559\n",
    "​\n",
    "p = homehealth[homehealth[\"State\"] == \"TX\"]\n",
    "solotx=(p[\"Scompleted\"].count())*1.0\n",
    "(solotx/total)*100\n",
    "Out[20]: 16.389340673088952\n",
    "​\n",
    "o = homehealth[homehealth[\"State\"] == \"FL\"]\n",
    "solofl=(o[\"Scompleted\"].count())*1.0\n",
    "(solofl/total)*100\n",
    "Out[21]: 9.0829475791317407\n",
    "​\n",
    "p = homehealth[homehealth[\"State\"] == \"TX\"]\n",
    "solotx=(p[\"Scompleted\"].count())*1.0\n",
    "(solotx/total)*100\n",
    "Out[22]: 16.389340673088952\n",
    "​\n",
    "q = homehealth[homehealth[\"State\"] == \"GA\"]\n",
    "sologa=(q[\"Scompleted\"].count())*1.0\n",
    "(sologa/total)*100\n",
    "Out[23]: 1.2636056549480796\n",
    "​\n",
    "r = homehealth[homehealth[\"State\"] == \"HI\"]\n",
    "solohi=(r[\"Scompleted\"].count())*1.0\n",
    "(solohi/total)*100\n",
    "Out[24]: 0.13762041786563242\n",
    "​\n",
    "s = homehealth[homehealth[\"State\"] == \"ID\"]\n",
    "soloid=(s[\"Scompleted\"].count())*1.0\n",
    "(soloid/total)*100\n",
    "Out[25]: 0.52545977730514204\n",
    "​\n",
    "t = homehealth[homehealth[\"State\"] == \"IL\"]\n",
    "soloil=(t[\"Scompleted\"].count())*1.0\n",
    "(soloil/total)*100\n",
    "Out[26]: 6.893531840360315\n",
    "​\n",
    "u = homehealth[homehealth[\"State\"] == \"IN\"]\n",
    "soloin=(u[\"Scompleted\"].count())*1.0\n",
    "(soloin/total)*100\n",
    "Out[27]: 2.1393719504566495\n",
    "​\n",
    "v = homehealth[homehealth[\"State\"] == \"IA\"]\n",
    "soloia=(v[\"Scompleted\"].count())*1.0\n",
    "(soloia/total)*100\n",
    "Out[28]: 1.5263355436006507\n",
    "​\n",
    "w = homehealth[homehealth[\"State\"] == \"KS\"]\n",
    "soloks=(w[\"Scompleted\"].count())*1.0\n",
    "(soloks/total)*100\n",
    "Out[29]: 1.0759414487676717\n",
    "​\n",
    "x = homehealth[homehealth[\"State\"] == \"LA\"]\n",
    "solola=(x[\"Scompleted\"].count())*1.0\n",
    "(solola/total)*100\n",
    "Out[30]: 2.364568997873139\n",
    "​\n",
    "y = homehealth[homehealth[\"State\"] == \"MD\"]\n",
    "solomd=(y[\"Scompleted\"].count())*1.0\n",
    "(solomd/total)*100\n",
    "Out[31]: 0.63805830101338668\n",
    "​\n",
    "z = homehealth[homehealth[\"State\"] == \"MA\"]\n",
    "soloma=(z[\"Scompleted\"].count())*1.0\n",
    "(soloma/total)*100\n",
    "Out[32]: 1.5638683848367321\n",
    "​\n",
    "aa = homehealth[homehealth[\"State\"] == \"MI\"]\n",
    "solomi=(aa[\"Scompleted\"].count())*1.0\n",
    "(solomi/total)*100\n",
    "Out[33]: 4.86675841361191\n",
    "​\n",
    "bb = homehealth[homehealth[\"State\"] == \"MN\"]\n",
    "solomn=(bb[\"Scompleted\"].count())*1.0\n",
    "(solomn/total)*100\n",
    "Out[35]: 1.6014012260728139\n",
    "​\n",
    "cc = homehealth[homehealth[\"State\"] == \"MS\"]\n",
    "soloms=(c[\"Scompleted\"].count())*1.0\n",
    "(soloms/total)*100\n",
    "Out[36]: 1.4888027023645689\n",
    "​\n",
    "dd = homehealth[homehealth[\"State\"] == \"MO\"]\n",
    "solomo=(dd[\"Scompleted\"].count())*1.0\n",
    "(solomo/total)*100\n",
    "Out[37]: 1.7014888027023647\n",
    "​\n",
    "ee = homehealth[homehealth[\"State\"] == \"MT\"]\n",
    "solomt=(ee[\"Scompleted\"].count())*1.0\n",
    "(solomt/total)*100\n",
    "Out[38]: 0.28775178280995872\n",
    "​\n",
    "ff = homehealth[homehealth[\"State\"] == \"NE\"]\n",
    "solone=(ff[\"Scompleted\"].count())*1.0\n",
    "(solone/total)*100\n",
    "Out[39]: 0.66308019517077443\n",
    "​\n",
    "gg = homehealth[homehealth[\"State\"] == \"MV\"]\n",
    "solomv=(gg[\"Scompleted\"].count())*1.0\n",
    "(solomv/total)*100\n",
    "Out[40]: 0.0\n",
    "​\n",
    "hh = homehealth[homehealth[\"State\"] == \"NC\"]\n",
    "solonc=(hh[\"Scompleted\"].count())*1.0\n",
    "(solonc/total)*100\n",
    "Out[41]: 2.1143500562992616\n",
    "​\n",
    "ii = homehealth[homehealth[\"State\"] == \"OK\"]\n",
    "solook=(ii[\"Scompleted\"].count())*1.0\n",
    "(solook/total)*100\n",
    "Out[42]: 2.5272113098961593\n",
    "​\n",
    "jj = homehealth[homehealth[\"State\"] == \"OR\"]\n",
    "soloor=(jj[\"Scompleted\"].count())*1.0\n",
    "(soloor/total)*100\n",
    "Out[43]: 0.6505692480920805\n",
    "​\n",
    "kk = homehealth[homehealth[\"State\"] == \"PA\"]\n",
    "solopa=(kk[\"Scompleted\"].count())*1.0\n",
    "(solopa/total)*100\n",
    "Out[44]: 3.1152258225947702\n",
    "​\n",
    "ll = homehealth[homehealth[\"State\"] == \"PR\"]\n",
    "solopr=(ll[\"Scompleted\"].count())*1.0\n",
    "(solopr/total)*100\n",
    "Out[45]: 0.46290504191167275\n",
    "​\n",
    "mm = homehealth[homehealth[\"State\"] == \"CS\"]\n",
    "solocs=(mm[\"Scompleted\"].count())*1.0\n",
    "(solocs/total)*100\n",
    "Out[46]: 0.0\n",
    "​\n",
    "nn = homehealth[homehealth[\"State\"] == \"UT\"]\n",
    "solout=(nn[\"Scompleted\"].count())*1.0\n",
    "(solout/total)*100\n",
    "Out[47]: 0.93832103090203922\n",
    "​\n",
    "oo = homehealth[homehealth[\"State\"] == \"VA\"]\n",
    "solova=(oo[\"Scompleted\"].count())*1.0\n",
    "(solova/total)*100\n",
    "Out[48]: 2.1894157387714253\n",
    "​\n",
    "pp = homehealth[homehealth[\"State\"] == \"WI\"]\n",
    "solowi=(pp[\"Scompleted\"].count())*1.0\n",
    "(solowi/total)*100\n",
    "Out[49]: 1.0759414487676717"
   ]
  },
  {
   "cell_type": "markdown",
   "metadata": {},
   "source": [
    "Los TOP 5 de Estados encuestados: #1 Texas con un 16.39% del total de encuestas #2 California con 10.57% del total de encuestas #3 Florida con 9.08% del total de encuestas #4 Illinois con 6.89% del total de encuestas # Ohio con 4.75% del total de encuestas."
   ]
  },
  {
   "cell_type": "markdown",
   "metadata": {},
   "source": []
  },
  {
   "cell_type": "markdown",
   "metadata": {},
   "source": [
    "### Maria José León\n",
    "\n",
    "#### ¿En qué estado y que rating tienen los labs donde discuten menos los pacientes con los laboratorios en cuanto a su salud médica?\n",
    "#### ¿Sobre lo anterior caules son los porcentajes de los demás Estados y por cuanto porciento es mejor el \"MEJOR\" Estado?"
   ]
  },
  {
   "cell_type": "code",
   "execution_count": null,
   "metadata": {
    "collapsed": true
   },
   "outputs": [],
   "source": [
    "import numpy as np\n",
    "import pandas as pd\n",
    "from scipy import stats, integrate\n",
    "import matplotlib.pyplot as plt\n",
    "import seaborn as sns\n",
    "\n",
    "homehealth= pd.read_csv(\"homehealth.csv\")\n",
    "\n",
    "homehealth.groupby('State').Percenths.sum() #Sumar los porcentajes, asi sabemos que Estado ayuda mas\n",
    "\n",
    "homehealth.groupby('State').Percenths.sum().max()\n",
    "\n",
    "homehealth.groupby('State').Sratings.sum() #Sumaoria de Rating por Estado\n",
    "\n",
    "a = homehealth[homehealth.State==\"TX\"] #Laboratorios en Texas\n",
    "\n",
    "a.Provider[a.Percenths==a.Percenths.max()]"
   ]
  },
  {
   "cell_type": "code",
   "execution_count": null,
   "metadata": {
    "collapsed": true
   },
   "outputs": [],
   "source": [
    "8790     PORT ARTHUR HOME HEALTH SERVICE               ...\n",
    "9230     RESTORATIVE HEALTH CARE OF SOUTH TEXAS        ...\n",
    "10247    1ST GENESIS HOME HEALTH SERVICES              ...\n",
    "10366    CHRISTIAN CARE HOME HEALTH AND HOSPICE        ...\n",
    "10406    BASIC NURSING SERVICES INC                    ...\n",
    "10929    TEXAS HOME CARE & ASSOCIATES LLC              ...\n",
    "11334    METROPLEX HOME HEALTH SERVICES PLLC           ..."
   ]
  },
  {
   "cell_type": "code",
   "execution_count": null,
   "metadata": {
    "collapsed": true
   },
   "outputs": [],
   "source": [
    "percentagehomehealth = pd.read_csv(\"Percentageshomehealth.csv\")\n",
    "percentagehomehealth.total\n",
    "\n",
    "b=sns.distplot(percentagehomehealth[\"total\"]);\n",
    "fig = b.get_figure()\n",
    "fig.savefig(\"Percentage.png\")"
   ]
  },
  {
   "cell_type": "markdown",
   "metadata": {},
   "source": [
    "![total](https://scontent-mia1-1.xx.fbcdn.net/v/t1.0-9/13133321_10206947567951876_1919505627383223173_n.jpg?oh=ff9a3165a9d6318133830acbe2794de4&oe=57E39BD9)"
   ]
  },
  {
   "cell_type": "markdown",
   "metadata": {},
   "source": []
  },
  {
   "cell_type": "markdown",
   "metadata": {},
   "source": [
    "### Julia Hernández\n",
    "#### Pregunta"
   ]
  },
  {
   "cell_type": "code",
   "execution_count": null,
   "metadata": {
    "collapsed": true
   },
   "outputs": [],
   "source": []
  },
  {
   "cell_type": "code",
   "execution_count": null,
   "metadata": {
    "collapsed": true
   },
   "outputs": [],
   "source": [
    "CODE"
   ]
  }
 ],
 "metadata": {
  "kernelspec": {
   "display_name": "Python 2",
   "language": "python",
   "name": "python2"
  },
  "language_info": {
   "codemirror_mode": {
    "name": "ipython",
    "version": 2
   },
   "file_extension": ".py",
   "mimetype": "text/x-python",
   "name": "python",
   "nbconvert_exporter": "python",
   "pygments_lexer": "ipython2",
   "version": "2.7.11"
  }
 },
 "nbformat": 4,
 "nbformat_minor": 0
}
