{
 "cells": [
  {
   "cell_type": "markdown",
   "metadata": {},
   "source": [
    "# Presentación Previa a Proyecto Final"
   ]
  },
  {
   "cell_type": "markdown",
   "metadata": {},
   "source": [
    "## Código"
   ]
  },
  {
   "cell_type": "code",
   "execution_count": null,
   "metadata": {
    "collapsed": true
   },
   "outputs": [],
   "source": [
    "import numpy as np\n",
    "import pandas as pd\n",
    "from scipy import stats, integrate\n",
    "import matplotlib.pyplot as plt\n",
    "import seaborn as sns\n",
    "\n",
    "homehealth= pd.read_csv(\"homehealth.csv\")"
   ]
  },
  {
   "cell_type": "code",
   "execution_count": null,
   "metadata": {
    "collapsed": true
   },
   "outputs": [],
   "source": [
    "b=sns.distplot(homehealth[\"Zip\"]);\n",
    "fig = b.get_figure()\n",
    "fig.savefig(\"Zip.png\")"
   ]
  },
  {
   "cell_type": "markdown",
   "metadata": {},
   "source": [
    "![Zip](https://scontent-mia1-1.xx.fbcdn.net/v/t1.0-9/13165893_10206919809137923_4339361475172622611_n.jpg?oh=fddf358e326cf99f2349cbee3c004ec3&oe=579C909B)"
   ]
  },
  {
   "cell_type": "code",
   "execution_count": null,
   "metadata": {
    "collapsed": true
   },
   "outputs": [],
   "source": [
    "c=sns.distplot(homehealth[\"Phone\"]);\n",
    "fig = c.get_figure()\n",
    "fig.savefig(\"Phone.png\")"
   ]
  },
  {
   "cell_type": "markdown",
   "metadata": {},
   "source": [
    "![Phone](https://scontent-mia1-1.xx.fbcdn.net/hphotos-xlt1/v/t1.0-9/13139086_10206919807737888_8069910074093524524_n.jpg?oh=c7c7b47bfc6ed77e0de1aa01596d034d&oe=57B0498C)"
   ]
  },
  {
   "cell_type": "code",
   "execution_count": null,
   "metadata": {
    "collapsed": true
   },
   "outputs": [],
   "source": [
    "e=sns.distplot(homehealth[\"Nursing\"]);\n",
    "fig = e.get_figure()\n",
    "fig.savefig(\"Nursing.png\")"
   ]
  },
  {
   "cell_type": "markdown",
   "metadata": {},
   "source": [
    "![Nursing](https://scontent-mia1-1.xx.fbcdn.net/v/t1.0-9/13133323_10206919806817865_2642836471578107687_n.jpg?oh=4886767cbd0d338318176b0666d755d6&oe=57B51B86)"
   ]
  },
  {
   "cell_type": "code",
   "execution_count": null,
   "metadata": {
    "collapsed": true
   },
   "outputs": [],
   "source": [
    "f=sns.distplot(homehealth[\"Ptherapy\"]);\n",
    "fig = f.get_figure()\n",
    "fig.savefig(\"Ptherapy.png\")"
   ]
  },
  {
   "cell_type": "markdown",
   "metadata": {},
   "source": [
    "![Ptherapy](https://scontent-mia1-1.xx.fbcdn.net/hphotos-xpf1/v/t1.0-9/13138811_10206919807857891_3483948841640739212_n.jpg?oh=f677fb74b86b9be6027dc3c5cf7941b4&oe=57A2D61F)"
   ]
  },
  {
   "cell_type": "code",
   "execution_count": null,
   "metadata": {
    "collapsed": true
   },
   "outputs": [],
   "source": [
    "g=sns.distplot(homehealth[\"Otherapy\"]);\n",
    "fig = g.get_figure()\n",
    "fig.savefig(\"Otherapy.png\")"
   ]
  },
  {
   "cell_type": "markdown",
   "metadata": {},
   "source": [
    "![Otherapy](https://scontent-mia1-1.xx.fbcdn.net/v/t1.0-9/13151872_10206919806897867_2199281779595701453_n.jpg?oh=6954fc1a69ae04131be24fc83788e53c&oe=57AB5F55)"
   ]
  },
  {
   "cell_type": "code",
   "execution_count": null,
   "metadata": {
    "collapsed": true
   },
   "outputs": [],
   "source": [
    "h=sns.distplot(homehealth[\"Pathology\"]);\n",
    "fig = h.get_figure()\n",
    "fig.savefig(\"Pathology.png\")"
   ]
  },
  {
   "cell_type": "markdown",
   "metadata": {},
   "source": [
    "![Pathology](https://scontent-mia1-1.xx.fbcdn.net/hphotos-xfl1/v/t1.0-9/13166005_10206919807177874_5123609289494589792_n.jpg?oh=efd8cfacd98b7daa723d58c90f000df5&oe=57BAFE0C)"
   ]
  },
  {
   "cell_type": "code",
   "execution_count": null,
   "metadata": {
    "collapsed": true
   },
   "outputs": [],
   "source": [
    "i=sns.distplot(homehealth[\"Smedical\"]);\n",
    "fig = i.get_figure()\n",
    "fig.savefig(\"Smedical.png\")"
   ]
  },
  {
   "cell_type": "markdown",
   "metadata": {},
   "source": [
    "![Smedical](https://scontent-mia1-1.xx.fbcdn.net/hphotos-xfp1/v/t1.0-9/13164200_10206919808257901_3083367854539927831_n.jpg?oh=80ea35db90ede1f72ae109c69232329d&oe=57A7587C)"
   ]
  },
  {
   "cell_type": "code",
   "execution_count": null,
   "metadata": {
    "collapsed": true
   },
   "outputs": [],
   "source": [
    "j=sns.distplot(homehealth[\"Hhealth\"]);\n",
    "fig = j.get_figure()\n",
    "fig.savefig(\"Hhealth.png\")"
   ]
  },
  {
   "cell_type": "markdown",
   "metadata": {},
   "source": [
    "![Hhealth](https://scontent-mia1-1.xx.fbcdn.net/v/t1.0-9/13082745_10206919806777864_476628894941085889_n.jpg?oh=c01ea239acd942b8205a5ddc694cc398&oe=57B62724)"
   ]
  },
  {
   "cell_type": "code",
   "execution_count": null,
   "metadata": {
    "collapsed": true
   },
   "outputs": [],
   "source": [
    "l=sns.distplot(homehealth[\"Sratings\"].fillna(0));\n",
    "fig = l.get_figure()\n",
    "fig.savefig(\"Sratings.png\")"
   ]
  },
  {
   "cell_type": "markdown",
   "metadata": {},
   "source": [
    "![Sratings](https://scontent-mia1-1.xx.fbcdn.net/v/t1.0-9/13139015_10206919808777914_86431012611407559_n.jpg?oh=7b93ced7687f258f5103801a0f75e42f&oe=57E55CF9)"
   ]
  },
  {
   "cell_type": "code",
   "execution_count": null,
   "metadata": {
    "collapsed": true
   },
   "outputs": [],
   "source": [
    "m=sns.distplot(homehealth[\"Sratingh\"].fillna(0));\n",
    "fig = m.get_figure()\n",
    "fig.savefig(\"Sratingh.png\")"
   ]
  },
  {
   "cell_type": "markdown",
   "metadata": {},
   "source": [
    "![Sratingh](https://scontent-mia1-1.xx.fbcdn.net/hphotos-xtp1/v/t1.0-9/13083329_10206919808377904_5572516797400125630_n.jpg?oh=209e1bffe786b8334264f43efa26dfad&oe=57B9F7A5)"
   ]
  },
  {
   "cell_type": "code",
   "execution_count": null,
   "metadata": {
    "collapsed": true
   },
   "outputs": [],
   "source": [
    "n=sns.distplot(homehealth[\"Percentp\"].fillna(0));\n",
    "fig = n.get_figure()\n",
    "fig.savefig(\"Percentp.png\")"
   ]
  },
  {
   "cell_type": "markdown",
   "metadata": {},
   "source": [
    "![Percentp](https://scontent-mia1-1.xx.fbcdn.net/hphotos-xtf1/v/t1.0-9/13166045_10206919807457881_8552865158346857688_n.jpg?oh=c7f806f7df9b62fbf0c0e7cdd1dafcbd&oe=57A494CF)"
   ]
  },
  {
   "cell_type": "code",
   "execution_count": null,
   "metadata": {
    "collapsed": true
   },
   "outputs": [],
   "source": [
    "o=sns.distplot(homehealth[\"Sratinghw\"].fillna(0));\n",
    "fig = o.get_figure()\n",
    "fig.savefig(\"Sratinghw.png\")"
   ]
  },
  {
   "cell_type": "markdown",
   "metadata": {},
   "source": [
    "![Sratinghw](https://scontent-mia1-1.xx.fbcdn.net/v/t1.0-9/13124790_10206919808737913_630917741763000135_n.jpg?oh=059a5c42c8d002a65786f398b7a48826&oe=5799EE84)"
   ]
  },
  {
   "cell_type": "code",
   "execution_count": null,
   "metadata": {
    "collapsed": true
   },
   "outputs": [],
   "source": [
    "p=sns.distplot(homehealth[\"Percenth\"].fillna(0));\n",
    "fig = p.get_figure()\n",
    "fig.savefig(\"Percenth.png\")"
   ]
  },
  {
   "cell_type": "markdown",
   "metadata": {},
   "source": [
    "![Percenth](https://scontent-mia1-1.xx.fbcdn.net/v/t1.0-9/13015278_10206919807257876_441656258440567088_n.jpg?oh=7b456405972ae199a59087a31d7b8a5f&oe=57AC5AF2)"
   ]
  },
  {
   "cell_type": "code",
   "execution_count": null,
   "metadata": {
    "collapsed": true
   },
   "outputs": [],
   "source": [
    "q=sns.distplot(homehealth[\"Sratinghs\"].fillna(0));\n",
    "fig = q.get_figure()\n",
    "fig.savefig(\"Sratinghs.png\")"
   ]
  },
  {
   "cell_type": "markdown",
   "metadata": {},
   "source": [
    "![Sratinghs](https://scontent-mia1-1.xx.fbcdn.net/hphotos-xlf1/v/t1.0-9/13124866_10206919808617910_1615397159606427111_n.jpg?oh=d8d5721adddcc8136236f2aa243b7e37&oe=579DC715)"
   ]
  },
  {
   "cell_type": "code",
   "execution_count": null,
   "metadata": {
    "collapsed": true
   },
   "outputs": [],
   "source": [
    "r=sns.distplot(homehealth[\"Percenths\"].fillna(0));\n",
    "fig = r.get_figure()\n",
    "fig.savefig(\"Percenths.png\")"
   ]
  },
  {
   "cell_type": "markdown",
   "metadata": {},
   "source": [
    "![Percenths](https://scontent-mia1-1.xx.fbcdn.net/hphotos-xtf1/v/t1.0-9/13103378_10206919807297877_5856388486972849392_n.jpg?oh=39d5fd88c092a0b0ad4a756f7893efd3&oe=57E67CA6)"
   ]
  },
  {
   "cell_type": "code",
   "execution_count": null,
   "metadata": {
    "collapsed": true
   },
   "outputs": [],
   "source": [
    "s=sns.distplot(homehealth[\"Sratingc\"].fillna(0));\n",
    "fig = s.get_figure()\n",
    "fig.savefig(\"Sratingc.png\")"
   ]
  },
  {
   "cell_type": "markdown",
   "metadata": {},
   "source": [
    "![Sratingc](https://scontent-mia1-1.xx.fbcdn.net/v/t1.0-9/13133171_10206919808337903_7573124811360716843_n.jpg?oh=3fd87bf4b26ba02539d50f5ea76726e4&oe=57B48A58)"
   ]
  },
  {
   "cell_type": "code",
   "execution_count": null,
   "metadata": {
    "collapsed": true
   },
   "outputs": [],
   "source": [
    "z=sns.distplot(homehealth[\"Percentr\"].fillna(0));\n",
    "fig = z.get_figure()\n",
    "fig.savefig(\"Percentr.png\")"
   ]
  },
  {
   "cell_type": "markdown",
   "metadata": {},
   "source": [
    "![Percentr](https://scontent-mia1-1.xx.fbcdn.net/v/t1.0-9/13139224_10206919807617885_4711377750053644754_n.jpg?oh=17391ddd1cde85cc94d8a9b820ae49db&oe=57AC1900)"
   ]
  },
  {
   "cell_type": "code",
   "execution_count": null,
   "metadata": {
    "collapsed": true
   },
   "outputs": [],
   "source": [
    "y=sns.distplot(homehealth[\"Scompleted\"].fillna(0));\n",
    "fig = y.get_figure()\n",
    "fig.savefig(\"Scompleted.png\")"
   ]
  },
  {
   "cell_type": "markdown",
   "metadata": {},
   "source": [
    "![Scompleted](https://scontent-mia1-1.xx.fbcdn.net/hphotos-xpl1/v/t1.0-9/13094281_10206919808017895_4833708871651077275_n.jpg?oh=fbe420efccde55334cfe7c7adcc5b0e2&oe=57AD2481)"
   ]
  },
  {
   "cell_type": "code",
   "execution_count": null,
   "metadata": {
    "collapsed": true
   },
   "outputs": [],
   "source": [
    "ya=sns.distplot(homehealth[\"Responser\"].fillna(0));\n",
    "fig = ya.get_figure()\n",
    "fig.savefig(\"Responser.png\")"
   ]
  },
  {
   "cell_type": "markdown",
   "metadata": {},
   "source": [
    "![Responser](https://scontent-mia1-1.xx.fbcdn.net/v/t1.0-9/13095879_10206919807977894_7442013184297764607_n.jpg?oh=535d8a4f97a484c9ae5a4c61b570733a&oe=57B85D42)"
   ]
  }
 ],
 "metadata": {
  "kernelspec": {
   "display_name": "Python 2",
   "language": "python",
   "name": "python2"
  },
  "language_info": {
   "codemirror_mode": {
    "name": "ipython",
    "version": 2
   },
   "file_extension": ".py",
   "mimetype": "text/x-python",
   "name": "python",
   "nbconvert_exporter": "python",
   "pygments_lexer": "ipython2",
   "version": "2.7.11"
  }
 },
 "nbformat": 4,
 "nbformat_minor": 0
}
