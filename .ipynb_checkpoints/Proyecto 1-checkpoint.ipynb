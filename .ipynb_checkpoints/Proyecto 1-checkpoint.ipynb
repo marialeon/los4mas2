{
 "cells": [
  {
   "cell_type": "markdown",
   "metadata": {},
   "source": [
    "# Proyecto 1"
   ]
  },
  {
   "cell_type": "markdown",
   "metadata": {},
   "source": [
    "## Preguntas"
   ]
  },
  {
   "cell_type": "markdown",
   "metadata": {},
   "source": [
    "#### 1. ¿Qué características tienen los grupos a los que se les cotiza los seguros más baratos?"
   ]
  },
  {
   "cell_type": "code",
   "execution_count": null,
   "metadata": {
    "collapsed": true
   },
   "outputs": [],
   "source": []
  },
  {
   "cell_type": "markdown",
   "metadata": {},
   "source": [
    "#### 2. ¿Qué tan probable es que se compre un seguro después de la k-ésima cotización?"
   ]
  },
  {
   "cell_type": "code",
   "execution_count": null,
   "metadata": {
    "collapsed": true
   },
   "outputs": [],
   "source": [
    "import pandas as pd\n",
    "import numpy as np\n",
    "import seaborn as sns\n",
    "import matplotlib.pyplot as plt\n",
    "\n",
    "bystate = allstate[allstate.record_type==1].groupby(\"state\")\n",
    "bystate.shopping_pt.mean()\n",
    "bystate.shopping_pt.mean().min()\n",
    "bystate.shopping_pt.mean()\n"
   ]
  },
  {
   "cell_type": "markdown",
   "metadata": {},
   "source": [
    "#### 3. Basados en la edad del más joven. ¿Que grupo tiene mayor probabilidad de comprar un seguro?"
   ]
  },
  {
   "cell_type": "code",
   "execution_count": null,
   "metadata": {
    "collapsed": true
   },
   "outputs": [],
   "source": []
  },
  {
   "cell_type": "markdown",
   "metadata": {},
   "source": [
    "#### 4. ¿Que edad promedio tienen las personas dueñas de carros vieos y carros nuevos?"
   ]
  },
  {
   "cell_type": "code",
   "execution_count": null,
   "metadata": {
    "collapsed": true
   },
   "outputs": [],
   "source": [
    "import pandas as pd\n",
    "import numpy as np\n",
    "\n",
    "\n",
    "edad = allstate[['car_age','age_oldest']]  \n",
    "pa = edad[edad.car_age == edad.car_age.max()] \n",
    "p = pa.age_oldest.mean()\n",
    "print p \n",
    "edad = allstate[['car_age','age_youngest']]  \n",
    "pa = edad[edad.car_age == edad.car_age.max()] \n",
    "p = pa.age_youngest.mean()\n",
    "print p \n",
    "##allstate.car_age.min()\n",
    "edad = allstate[['car_age','age_oldest']]  \n",
    "pa = edad[edad.car_age == edad.car_age.min()] \n",
    "p = pa.age_oldest.mean()\n",
    "print p \n",
    "    \n",
    "edad = allstate[['car_age','age_youngest']]  \n",
    "pa = edad[edad.car_age == edad.car_age.min()] \n",
    "p = pa.age_youngest.mean()\n",
    "print p"
   ]
  },
  {
   "cell_type": "markdown",
   "metadata": {},
   "source": [
    "#### 5. ¿Probabilidad de que alguien de edad k compre un seguro?"
   ]
  },
  {
   "cell_type": "code",
   "execution_count": null,
   "metadata": {
    "collapsed": true
   },
   "outputs": [],
   "source": []
  },
  {
   "cell_type": "markdown",
   "metadata": {},
   "source": [
    "#### 6. ¿Que estado, en promedio, necesita menos cotizaciones?"
   ]
  },
  {
   "cell_type": "code",
   "execution_count": null,
   "metadata": {
    "collapsed": true
   },
   "outputs": [],
   "source": [
    "import pandas as pd\n",
    "import numpy as np\n",
    "import seaborn as sns\n",
    "import matplotlib.pyplot as plt\n",
    "\n",
    "bystate = allstate[allstate.record_type==1].groupby(\"state\")\n",
    "bystate.shopping_pt.mean()\n",
    "bystate.shopping_pt.mean().min()\n",
    "bystate.shopping_pt.mean()"
   ]
  },
  {
   "cell_type": "markdown",
   "metadata": {},
   "source": [
    "#### 7. ¿Cuántas cotizaciones, previo la compra, realizan los consumidores del estado de Florida?"
   ]
  },
  {
   "cell_type": "code",
   "execution_count": null,
   "metadata": {
    "collapsed": true
   },
   "outputs": [],
   "source": [
    "import pandas as pd\n",
    "import numpy as np\n",
    "import seaborn as sns\n",
    "import matplotlib.pyplot as plt\n",
    "\n",
    "\n",
    "allstate=pd.read_csv(\"allstate.csv\")\n",
    "\n",
    "a = (allstate.state == \"FL\") & (allstate.shopping_pt == 1)\n",
    "a.sum()\n",
    "\n",
    "b = (allstate.state == \"FL\") & (allstate.shopping_pt == 2)\n",
    "b.sum()\n",
    "\n",
    "a.sum()-b.sum()\n",
    "\n",
    "c = (allstate.state == \"FL\") & (allstate.shopping_pt == 3)\n",
    "c.sum()\n",
    "\n",
    "d = (allstate.state == \"FL\") & (allstate.shopping_pt == 4)\n",
    "d.sum()\n",
    "\n",
    "c.sum()-d.sum()\n",
    "\n",
    "e = (allstate.state == \"FL\") & (allstate.shopping_pt == 5)\n",
    "e.sum()\n",
    "\n",
    "d.sum()-e.sum()\n",
    "\n",
    "\n",
    "f = (allstate.state == \"FL\") & (allstate.shopping_pt == 6)\n",
    "f.sum()\n",
    "\n",
    "e.sum()-f.sum()\n",
    "\n",
    "g = (allstate.state == \"FL\") & (allstate.shopping_pt == 7)\n",
    "g.sum()\n",
    "\n",
    "f.sum()-g.sum()\n",
    "\n",
    "h = (allstate.state == \"FL\") & (allstate.shopping_pt == 8)\n",
    "h.sum()\n",
    "\n",
    "g.sum()-h.sum()\n",
    "\n",
    "i = (allstate.state == \"FL\") & (allstate.shopping_pt == 9)\n",
    "i.sum()\n",
    "\n",
    "h.sum()-i.sum()\n",
    "\n",
    "j = (allstate.state == \"FL\") & (allstate.shopping_pt == 10)\n",
    "j.sum()\n",
    "\n",
    "i.sum()-j.sum()\n",
    "\n",
    "k = (allstate.state == \"FL\") & (allstate.shopping_pt == 11)\n",
    "k.sum()\n",
    "\n",
    "j.sum()-k.sum()\n",
    "\n",
    "l = (allstate.state == \"FL\") & (allstate.shopping_pt == 12)\n",
    "l.sum()\n",
    "\n",
    "k.sum()-l.sum()\n",
    "\n",
    "m = (allstate.state == \"FL\") & (allstate.shopping_pt == 13)\n",
    "m.sum()\n",
    "\n",
    "l.sum()-m.sum()"
   ]
  },
  {
   "cell_type": "markdown",
   "metadata": {},
   "source": [
    "#### 8. ¿En qué tiempo prudente se realizan las cotizaciones?"
   ]
  },
  {
   "cell_type": "code",
   "execution_count": null,
   "metadata": {
    "collapsed": true
   },
   "outputs": [],
   "source": [
    "import pandas as pd\n",
    "import numpy as np\n",
    "import seaborn as sns\n",
    "import matplotlib.pyplot as plt\n",
    "\n"
   ]
  },
  {
   "cell_type": "markdown",
   "metadata": {},
   "source": [
    "#### 9. ¿Del total de carros que porcentaje tiene menos de k años?"
   ]
  },
  {
   "cell_type": "code",
   "execution_count": null,
   "metadata": {
    "collapsed": true
   },
   "outputs": [],
   "source": [
    "import pandas as pd\n",
    "import seaborn as sns\n",
    "import matplotlib.pyplot as plt\n",
    "#Ejercicio 9\n",
    "allstate = pd.read_csv('allstate.csv')\n",
    "\n",
    "dataFrame = allstate[['car_age']]\n",
    "\n",
    "def underCarAge(edad):\n",
    "    x = allstate[['car_age']]\n",
    "    temporary = x[x.car_age < edad]\n",
    "    porc = (temporary.count() / x.count())*100\n",
    "    return porc\n",
    "\n",
    "#underCarAge(86)\n",
    "max_value = dataFrame.max()\n",
    "min_value = dataFrame.min()\n",
    "listaDeValores = []\n",
    "for i in range(min_value,max_value+1):\n",
    "    row = [int(i), str(str(float(underCarAge(i)))+'%')]\n",
    "    listaDeValores.append(row)\n",
    "\n",
    "nombre = pd.Series((v[0] for v in listaDeValores))\n",
    "nombreDeSerie = pd.Series((v[1] for v in listaDeValores))\n",
    "newDataFrame = pd.concat([nombre,nombreDeSerie], axis = 1)\n",
    "newDataFrame.columns = ('Edad','Porcentaje')\n",
    "\n",
    "print newDataFrame"
   ]
  },
  {
   "cell_type": "markdown",
   "metadata": {},
   "source": [
    "#### 10. ¿Que edad necesita menos cotizaciones para comprar un seguro?"
   ]
  },
  {
   "cell_type": "code",
   "execution_count": null,
   "metadata": {
    "collapsed": true
   },
   "outputs": [],
   "source": [
    "import pandas as pd\n",
    "import seaborn as sns\n",
    "import matplotlib.pyplot as plt\n",
    "\n",
    "allstate = pd.read_csv('allstate.csv')\n",
    "\n",
    "datos = allstate[['record_type','shopping_pt','age_youngest']]\n",
    "purchasedInsurance = datos[datos.record_type == 1]\n",
    "smallestCot = min(purchasedInsurance.shopping_pt)\n",
    "cantCont = purchasedInsurance[purchasedInsurance.shopping_pt == smallestCot]\n",
    "mode = cantCont.mode()\n",
    "print 'Para comprar la edad que menos cotiza es: ' + str(int(mode.age_youngest))"
   ]
  }
 ],
 "metadata": {
  "kernelspec": {
   "display_name": "Python 2",
   "language": "python",
   "name": "python2"
  },
  "language_info": {
   "codemirror_mode": {
    "name": "ipython",
    "version": 2
   },
   "file_extension": ".py",
   "mimetype": "text/x-python",
   "name": "python",
   "nbconvert_exporter": "python",
   "pygments_lexer": "ipython2",
   "version": "2.7.11"
  }
 },
 "nbformat": 4,
 "nbformat_minor": 0
}
